{
 "cells": [
  {
   "cell_type": "code",
   "execution_count": 1,
   "metadata": {},
   "outputs": [],
   "source": [
    "import tensorflow as tf\n",
    "from tensorflow.keras.layers import Conv2D, BatchNormalization, MaxPooling2D, Flatten, Dropout, Dense, LeakyReLU, Input\n",
    "from tensorflow.keras.models import Model\n",
    "from tensorflow.keras.optimizers.legacy import Adam as LegacyAdam\n"
   ]
  },
  {
   "cell_type": "code",
   "execution_count": 2,
   "metadata": {},
   "outputs": [],
   "source": [
    "# Height and width refer to the size of the image\n",
    "# Channels refers to the amount of color channels (red, green, blue)\n",
    "\n",
    "image_dimensions = {'height':256, 'width':256, 'channels':3}"
   ]
  },
  {
   "cell_type": "code",
   "execution_count": 3,
   "metadata": {},
   "outputs": [
    {
     "name": "stderr",
     "output_type": "stream",
     "text": [
      "2024-06-25 03:59:45.106525: I metal_plugin/src/device/metal_device.cc:1154] Metal device set to: Apple M1\n",
      "2024-06-25 03:59:45.106545: I metal_plugin/src/device/metal_device.cc:296] systemMemory: 8.00 GB\n",
      "2024-06-25 03:59:45.106549: I metal_plugin/src/device/metal_device.cc:313] maxCacheSize: 2.67 GB\n",
      "2024-06-25 03:59:45.106752: I tensorflow/core/common_runtime/pluggable_device/pluggable_device_factory.cc:303] Could not identify NUMA node of platform GPU ID 0, defaulting to 0. Your kernel may not have been built with NUMA support.\n",
      "2024-06-25 03:59:45.106771: I tensorflow/core/common_runtime/pluggable_device/pluggable_device_factory.cc:269] Created TensorFlow device (/job:localhost/replica:0/task:0/device:GPU:0 with 0 MB memory) -> physical PluggableDevice (device: 0, name: METAL, pci bus id: <undefined>)\n"
     ]
    }
   ],
   "source": [
    "class Meso4:\n",
    "    def __init__(self, learning_rate=0.001):\n",
    "        self.model = self.init_model()\n",
    "        optimizer = LegacyAdam(learning_rate=learning_rate)\n",
    "        self.model.compile(optimizer=optimizer,\n",
    "                           loss='mean_squared_error',\n",
    "                           metrics=['accuracy'])\n",
    "\n",
    "    def init_model(self): \n",
    "        x = Input(shape=(256, 256, 3))\n",
    "        \n",
    "        x1 = Conv2D(8, (3, 3), padding='same', activation='relu')(x)\n",
    "        x1 = BatchNormalization()(x1)\n",
    "        x1 = MaxPooling2D(pool_size=(2, 2), padding='same')(x1)\n",
    "        \n",
    "        x2 = Conv2D(8, (5, 5), padding='same', activation='relu')(x1)\n",
    "        x2 = BatchNormalization()(x2)\n",
    "        x2 = MaxPooling2D(pool_size=(2, 2), padding='same')(x2)\n",
    "        \n",
    "        x3 = Conv2D(16, (5, 5), padding='same', activation='relu')(x2)\n",
    "        x3 = BatchNormalization()(x3)\n",
    "        x3 = MaxPooling2D(pool_size=(2, 2), padding='same')(x3)\n",
    "        \n",
    "        x4 = Conv2D(16, (5, 5), padding='same', activation='relu')(x3)\n",
    "        x4 = BatchNormalization()(x4)\n",
    "        x4 = MaxPooling2D(pool_size=(4, 4), padding='same')(x4)\n",
    "        \n",
    "        y = Flatten()(x4)\n",
    "        y = Dropout(0.5)(y)\n",
    "        y = Dense(16)(y)\n",
    "        y = LeakyReLU(alpha=0.1)(y)\n",
    "        y = Dropout(0.5)(y)\n",
    "        y = Dense(1, activation='sigmoid')(y)\n",
    "\n",
    "        return Model(inputs=x, outputs=y)\n",
    "\n",
    "# Create the model architecture\n",
    "meso = Meso4()\n",
    "\n",
    "# Load the pre-trained weights\n",
    "meso.model.load_weights('/Users/taherpanbiharwala/Desktop/Deepfake_Detection/Deepfake-detection/weights/Meso4_DF.h5')\n"
   ]
  },
  {
   "cell_type": "code",
   "execution_count": 4,
   "metadata": {},
   "outputs": [],
   "source": [
    "# Unfreeze some layers for fine-tuning\n",
    "for layer in meso.model.layers[-4:]:\n",
    "    layer.trainable = True"
   ]
  },
  {
   "cell_type": "code",
   "execution_count": 5,
   "metadata": {},
   "outputs": [
    {
     "name": "stdout",
     "output_type": "stream",
     "text": [
      "Found 19202 images belonging to 2 classes.\n",
      "Found 2200 images belonging to 2 classes.\n"
     ]
    }
   ],
   "source": [
    "# Prepare your dataset\n",
    "train_datagen = tf.keras.preprocessing.image.ImageDataGenerator(\n",
    "    rescale=1./255,\n",
    "    shear_range=0.2,\n",
    "    zoom_range=0.2,\n",
    "    horizontal_flip=True,\n",
    "    validation_split=0.2)\n",
    "\n",
    "train_generator = train_datagen.flow_from_directory(\n",
    "    '/Users/taherpanbiharwala/Desktop/Deepfake_Detection/Dataset/Train',\n",
    "    target_size=(256, 256),\n",
    "    batch_size=4,\n",
    "    class_mode='binary',\n",
    "    subset='training')\n",
    "\n",
    "validation_generator = train_datagen.flow_from_directory(\n",
    "    '/Users/taherpanbiharwala/Desktop/Deepfake_Detection/Dataset/Validation',\n",
    "    target_size=(256, 256),\n",
    "    batch_size=4,\n",
    "    class_mode='binary',\n",
    "    subset='validation')"
   ]
  },
  {
   "cell_type": "code",
   "execution_count": 6,
   "metadata": {},
   "outputs": [],
   "source": [
    "# Compile the model\n",
    "meso.model.compile(optimizer=LegacyAdam(learning_rate=1e-4),\n",
    "              loss='binary_crossentropy',\n",
    "              metrics=['accuracy'])"
   ]
  },
  {
   "cell_type": "code",
   "execution_count": 7,
   "metadata": {},
   "outputs": [
    {
     "name": "stdout",
     "output_type": "stream",
     "text": [
      "Epoch 1/50\n"
     ]
    },
    {
     "name": "stderr",
     "output_type": "stream",
     "text": [
      "2024-06-25 03:59:45.999660: I tensorflow/core/grappler/optimizers/custom_graph_optimizer_registry.cc:114] Plugin optimizer for device_type GPU is enabled.\n"
     ]
    },
    {
     "name": "stdout",
     "output_type": "stream",
     "text": [
      "4801/4801 [==============================] - ETA: 0s - loss: 0.6359 - accuracy: 0.6763"
     ]
    },
    {
     "name": "stderr",
     "output_type": "stream",
     "text": [
      "2024-06-25 04:02:00.778513: I tensorflow/core/grappler/optimizers/custom_graph_optimizer_registry.cc:114] Plugin optimizer for device_type GPU is enabled.\n"
     ]
    },
    {
     "name": "stdout",
     "output_type": "stream",
     "text": [
      "4801/4801 [==============================] - 150s 31ms/step - loss: 0.6359 - accuracy: 0.6763 - val_loss: 0.4871 - val_accuracy: 0.7955\n",
      "Epoch 2/50\n",
      "   4/4801 [..............................] - ETA: 1:54 - loss: 0.7961 - accuracy: 0.6875"
     ]
    },
    {
     "name": "stderr",
     "output_type": "stream",
     "text": [
      "/Users/taherpanbiharwala/anaconda3/envs/project/lib/python3.8/site-packages/keras/src/engine/training.py:3000: UserWarning: You are saving your model as an HDF5 file via `model.save()`. This file format is considered legacy. We recommend using instead the native Keras format, e.g. `model.save('my_model.keras')`.\n",
      "  saving_api.save_model(\n"
     ]
    },
    {
     "name": "stdout",
     "output_type": "stream",
     "text": [
      "4801/4801 [==============================] - 148s 31ms/step - loss: 0.4969 - accuracy: 0.7557 - val_loss: 0.4526 - val_accuracy: 0.8059\n",
      "Epoch 3/50\n",
      "4801/4801 [==============================] - 145s 30ms/step - loss: 0.4668 - accuracy: 0.7735 - val_loss: 0.3943 - val_accuracy: 0.8573\n",
      "Epoch 4/50\n",
      "4801/4801 [==============================] - 149s 31ms/step - loss: 0.4439 - accuracy: 0.7850 - val_loss: 0.4119 - val_accuracy: 0.8355\n",
      "Epoch 5/50\n",
      "4801/4801 [==============================] - 149s 31ms/step - loss: 0.4210 - accuracy: 0.8011 - val_loss: 0.4068 - val_accuracy: 0.8414\n",
      "Epoch 6/50\n",
      "4801/4801 [==============================] - 149s 31ms/step - loss: 0.3950 - accuracy: 0.8198 - val_loss: 0.3680 - val_accuracy: 0.8600\n",
      "Epoch 7/50\n",
      "4801/4801 [==============================] - 150s 31ms/step - loss: 0.3694 - accuracy: 0.8329 - val_loss: 0.3958 - val_accuracy: 0.8068\n",
      "Epoch 8/50\n",
      "4801/4801 [==============================] - 151s 31ms/step - loss: 0.3427 - accuracy: 0.8473 - val_loss: 0.5156 - val_accuracy: 0.7164\n",
      "Epoch 9/50\n",
      "4801/4801 [==============================] - 150s 31ms/step - loss: 0.3199 - accuracy: 0.8606 - val_loss: 0.3388 - val_accuracy: 0.8568\n",
      "Epoch 10/50\n",
      "4801/4801 [==============================] - 150s 31ms/step - loss: 0.3070 - accuracy: 0.8670 - val_loss: 0.2802 - val_accuracy: 0.8950\n",
      "Epoch 11/50\n",
      "4801/4801 [==============================] - 154s 32ms/step - loss: 0.2841 - accuracy: 0.8770 - val_loss: 0.3245 - val_accuracy: 0.8564\n",
      "Epoch 12/50\n",
      "4801/4801 [==============================] - 153s 32ms/step - loss: 0.2724 - accuracy: 0.8840 - val_loss: 0.3157 - val_accuracy: 0.8518\n",
      "Epoch 13/50\n",
      "4801/4801 [==============================] - 154s 32ms/step - loss: 0.2589 - accuracy: 0.8925 - val_loss: 0.2411 - val_accuracy: 0.9218\n",
      "Epoch 14/50\n",
      "4801/4801 [==============================] - 156s 32ms/step - loss: 0.2426 - accuracy: 0.8994 - val_loss: 0.2452 - val_accuracy: 0.9127\n",
      "Epoch 15/50\n",
      "4801/4801 [==============================] - 160s 33ms/step - loss: 0.2343 - accuracy: 0.9055 - val_loss: 0.2481 - val_accuracy: 0.9014\n",
      "Epoch 16/50\n",
      "4801/4801 [==============================] - 166s 35ms/step - loss: 0.2221 - accuracy: 0.9083 - val_loss: 0.2466 - val_accuracy: 0.9091\n",
      "Epoch 17/50\n",
      "4801/4801 [==============================] - 176s 37ms/step - loss: 0.2143 - accuracy: 0.9123 - val_loss: 0.2125 - val_accuracy: 0.9191\n",
      "Epoch 18/50\n",
      "4801/4801 [==============================] - 171s 36ms/step - loss: 0.2043 - accuracy: 0.9166 - val_loss: 0.2361 - val_accuracy: 0.9018\n",
      "Epoch 19/50\n",
      "4801/4801 [==============================] - 176s 37ms/step - loss: 0.1973 - accuracy: 0.9189 - val_loss: 0.1946 - val_accuracy: 0.9277\n",
      "Epoch 20/50\n",
      "4801/4801 [==============================] - 179s 37ms/step - loss: 0.1905 - accuracy: 0.9218 - val_loss: 0.2174 - val_accuracy: 0.9064\n",
      "Epoch 21/50\n",
      "4801/4801 [==============================] - 190s 40ms/step - loss: 0.1839 - accuracy: 0.9249 - val_loss: 0.1879 - val_accuracy: 0.9318\n",
      "Epoch 22/50\n",
      "4801/4801 [==============================] - 187s 39ms/step - loss: 0.1774 - accuracy: 0.9263 - val_loss: 0.2298 - val_accuracy: 0.9005\n",
      "Epoch 23/50\n",
      "4801/4801 [==============================] - 188s 39ms/step - loss: 0.1732 - accuracy: 0.9304 - val_loss: 0.1898 - val_accuracy: 0.9345\n",
      "Epoch 24/50\n",
      "4801/4801 [==============================] - 191s 40ms/step - loss: 0.1639 - accuracy: 0.9363 - val_loss: 0.1761 - val_accuracy: 0.9327\n",
      "Epoch 25/50\n",
      "4801/4801 [==============================] - 192s 40ms/step - loss: 0.1631 - accuracy: 0.9362 - val_loss: 0.1979 - val_accuracy: 0.9255\n",
      "Epoch 26/50\n",
      "4801/4801 [==============================] - 192s 40ms/step - loss: 0.1599 - accuracy: 0.9365 - val_loss: 0.1994 - val_accuracy: 0.9195\n",
      "Epoch 27/50\n",
      "4801/4801 [==============================] - 193s 40ms/step - loss: 0.1560 - accuracy: 0.9368 - val_loss: 0.1641 - val_accuracy: 0.9373\n",
      "Epoch 28/50\n",
      "4801/4801 [==============================] - 197s 41ms/step - loss: 0.1537 - accuracy: 0.9391 - val_loss: 0.2045 - val_accuracy: 0.9141\n",
      "Epoch 29/50\n",
      "4801/4801 [==============================] - 196s 41ms/step - loss: 0.1500 - accuracy: 0.9404 - val_loss: 0.2019 - val_accuracy: 0.9191\n",
      "Epoch 30/50\n",
      "4801/4801 [==============================] - 195s 41ms/step - loss: 0.1469 - accuracy: 0.9422 - val_loss: 0.2129 - val_accuracy: 0.9145\n",
      "Epoch 31/50\n",
      "4801/4801 [==============================] - 197s 41ms/step - loss: 0.1452 - accuracy: 0.9426 - val_loss: 0.1672 - val_accuracy: 0.9445\n",
      "Epoch 32/50\n",
      "4801/4801 [==============================] - 197s 41ms/step - loss: 0.1431 - accuracy: 0.9443 - val_loss: 0.2442 - val_accuracy: 0.8982\n"
     ]
    }
   ],
   "source": [
    "# Define callbacks\n",
    "checkpoint = tf.keras.callbacks.ModelCheckpoint('fine_tuned_meso4.h5', save_best_only=True, monitor='val_loss', mode='min')\n",
    "early_stop = tf.keras.callbacks.EarlyStopping(monitor='val_loss', patience=5, mode='min')\n",
    "\n",
    "# Fine-tune the model\n",
    "history = meso.model.fit(\n",
    "    train_generator,\n",
    "    epochs=50,\n",
    "    validation_data=validation_generator,\n",
    "    callbacks=[checkpoint, early_stop])"
   ]
  },
  {
   "cell_type": "code",
   "execution_count": 8,
   "metadata": {},
   "outputs": [
    {
     "name": "stdout",
     "output_type": "stream",
     "text": [
      "550/550 [==============================] - 16s 30ms/step - loss: 0.2552 - accuracy: 0.8900\n",
      "Validation Loss: 0.2552040219306946\n",
      "Validation Accuracy: 0.8899999856948853\n"
     ]
    }
   ],
   "source": [
    "# Evaluate the model\n",
    "loss, accuracy = meso.model.evaluate(validation_generator)\n",
    "print(f'Validation Loss: {loss}')\n",
    "print(f'Validation Accuracy: {accuracy}')"
   ]
  }
 ],
 "metadata": {
  "kernelspec": {
   "display_name": "project",
   "language": "python",
   "name": "python3"
  },
  "language_info": {
   "codemirror_mode": {
    "name": "ipython",
    "version": 3
   },
   "file_extension": ".py",
   "mimetype": "text/x-python",
   "name": "python",
   "nbconvert_exporter": "python",
   "pygments_lexer": "ipython3",
   "version": "3.8.18"
  }
 },
 "nbformat": 4,
 "nbformat_minor": 2
}
